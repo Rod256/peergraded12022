{
 "cells": [
  {
   "cell_type": "markdown",
   "id": "8d9b8b39",
   "metadata": {},
   "source": [
    "# My Jupyter Notebook on IBM Watson Studio\n",
    "\n",
    "\n"
   ]
  },
  {
   "cell_type": "markdown",
   "id": "d0ca53dd",
   "metadata": {},
   "source": [
    "**Rodrigo Quezada Reyes** \n",
    "\n",
    "Programmer\n",
    "\n"
   ]
  },
  {
   "cell_type": "markdown",
   "id": "ed330510",
   "metadata": {},
   "source": [
    " *I am interested in data science because I find it fascinating, we can find amazing insights with data.*"
   ]
  },
  {
   "cell_type": "markdown",
   "id": "04367607",
   "metadata": {},
   "source": [
    "### My code is in Cell 5 supposed to multiply 5 by 5"
   ]
  },
  {
   "cell_type": "code",
   "execution_count": 3,
   "id": "96982503",
   "metadata": {},
   "outputs": [
    {
     "data": {
      "text/plain": [
       "25"
      ]
     },
     "execution_count": 3,
     "metadata": {},
     "output_type": "execute_result"
    }
   ],
   "source": [
    "5*5"
   ]
  },
  {
   "cell_type": "markdown",
   "id": "4f29d134",
   "metadata": {},
   "source": [
    "Here is a very nicely formatted cell using Jupyter Notebooks:\n",
    "\n",
    "- This is\n",
    "- a bulleted\n",
    "- list\n",
    "\n",
    "***\n",
    "\n",
    "1. And this is\n",
    "2. a numbered\n",
    "3. list\n",
    "\n",
    "[Next we have a CNN link](https://cnn.com)\n",
    "\n",
    "![Now we see an online image](https://github.com/buildandteach/pandasbook/blob/master/logo.png?raw=true)\n",
    "\n",
    "```python \n",
    "w = \"Hellow world with Python /syntax highlighting example\"\n",
    "print w \n",
    "```\n",
    "\n",
    "| Col1 | Col2 | Col3 |\n",
    "| ---: | ---: | ---: |\n",
    "| Here |  a   | table|\n",
    "| 6541 | 4187 | 9948 |\n",
    "\n",
    "~~~Here an strikethrough~~~\n",
    "\n",
    "And finally a formula:\n",
    "\n",
    "$$y^2 + x^2 = z^2$$\n"
   ]
  }
 ],
 "metadata": {
  "kernelspec": {
   "display_name": "Python 3 (ipykernel)",
   "language": "python",
   "name": "python3"
  },
  "language_info": {
   "codemirror_mode": {
    "name": "ipython",
    "version": 3
   },
   "file_extension": ".py",
   "mimetype": "text/x-python",
   "name": "python",
   "nbconvert_exporter": "python",
   "pygments_lexer": "ipython3",
   "version": "3.9.7"
  }
 },
 "nbformat": 4,
 "nbformat_minor": 5
}
